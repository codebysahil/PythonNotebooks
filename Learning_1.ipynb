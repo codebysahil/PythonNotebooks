{
  "nbformat": 4,
  "nbformat_minor": 0,
  "metadata": {
    "colab": {
      "provenance": [],
      "authorship_tag": "ABX9TyP02l8WVFfDpFCeHwjMU4S4",
      "include_colab_link": true
    },
    "kernelspec": {
      "name": "python3",
      "display_name": "Python 3"
    },
    "language_info": {
      "name": "python"
    }
  },
  "cells": [
    {
      "cell_type": "markdown",
      "metadata": {
        "id": "view-in-github",
        "colab_type": "text"
      },
      "source": [
        "<a href=\"https://colab.research.google.com/github/codebysahil/PythonNotebooks/blob/main/Learning_1.ipynb\" target=\"_parent\"><img src=\"https://colab.research.google.com/assets/colab-badge.svg\" alt=\"Open In Colab\"/></a>"
      ]
    },
    {
      "cell_type": "code",
      "execution_count": null,
      "metadata": {
        "colab": {
          "base_uri": "https://localhost:8080/"
        },
        "id": "ye8A1TwwGCUQ",
        "outputId": "387aac40-4971-428e-f03d-58ed2242a5a1"
      },
      "outputs": [
        {
          "output_type": "stream",
          "name": "stdout",
          "text": [
            "Hello World\n"
          ]
        }
      ],
      "source": [
        "print(\"Hello World\")\n"
      ]
    },
    {
      "cell_type": "code",
      "source": [
        "s = 'Hello'\n",
        "print(s)\n",
        "s1 = \"Hello\"\n",
        "print(s1)\n",
        "s2 = '''Hellos\n",
        "I am here''' # for multi line strings with single triple inverted commas\n",
        "s4 = \"\"\"Triple and double inverted commas\"\"\"\n",
        "print(s2)\n",
        "print(s4)"
      ],
      "metadata": {
        "colab": {
          "base_uri": "https://localhost:8080/"
        },
        "id": "isdZVGi9HGSF",
        "outputId": "221cc0f7-5bfa-4b8b-f4cb-cfad96b16a6c"
      },
      "execution_count": null,
      "outputs": [
        {
          "output_type": "stream",
          "name": "stdout",
          "text": [
            "Hello\n",
            "Hello\n",
            "Hellos\n",
            "I am here\n",
            "Triple and double inverted commas\n"
          ]
        }
      ]
    },
    {
      "cell_type": "code",
      "source": [
        "s3 =\"it's raining outside\"\n",
        "print(s3)"
      ],
      "metadata": {
        "colab": {
          "base_uri": "https://localhost:8080/"
        },
        "id": "xw6CF72FHGrQ",
        "outputId": "c0cf2b24-6591-4d77-c687-24fd4a6e8493"
      },
      "execution_count": null,
      "outputs": [
        {
          "output_type": "stream",
          "name": "stdout",
          "text": [
            "it's raining outside\n"
          ]
        }
      ]
    },
    {
      "cell_type": "code",
      "source": [
        "name= str(\"John\") # type conversion function\n",
        "print(name)"
      ],
      "metadata": {
        "colab": {
          "base_uri": "https://localhost:8080/"
        },
        "id": "4VfUmsJRHGzH",
        "outputId": "344fd4fd-4240-4226-b664-edd7a5ba2c0f"
      },
      "execution_count": null,
      "outputs": [
        {
          "output_type": "stream",
          "name": "stdout",
          "text": [
            "John\n"
          ]
        }
      ]
    },
    {
      "cell_type": "code",
      "source": [
        "# Indexing\n",
        "s = \"hello world\" # positive indexing\n",
        "print(s[4])  # index error"
      ],
      "metadata": {
        "colab": {
          "base_uri": "https://localhost:8080/"
        },
        "id": "0FNLx8KDHG2S",
        "outputId": "e957eedd-c1c9-45af-ae9c-1b2562359fb1"
      },
      "execution_count": null,
      "outputs": [
        {
          "output_type": "stream",
          "name": "stdout",
          "text": [
            "o\n"
          ]
        }
      ]
    },
    {
      "cell_type": "code",
      "source": [
        "s1 = \"negative Indexing\" # negative indexing\n",
        "\n",
        "print(s1[-4])"
      ],
      "metadata": {
        "colab": {
          "base_uri": "https://localhost:8080/"
        },
        "id": "CQkxeJsUHG5T",
        "outputId": "e661faec-fe6c-4115-f7e6-33bbfb2f2d8f"
      },
      "execution_count": null,
      "outputs": [
        {
          "output_type": "stream",
          "name": "stdout",
          "text": [
            "x\n"
          ]
        }
      ]
    },
    {
      "cell_type": "code",
      "source": [
        "# Slicing\n",
        "s = \"hello world\"\n",
        "print(s[0:5])\n",
        "print(s[2:3])\n",
        "print(s[2:])\n",
        "print(s[:4])\n",
        "print(s[0:6:2]) # hello / hlo\n",
        "print(s[-1:6])"
      ],
      "metadata": {
        "colab": {
          "base_uri": "https://localhost:8080/"
        },
        "id": "Q_K2Q3pKHG8Y",
        "outputId": "6e6483d0-008b-49d4-fd90-b52dabaaa2c3"
      },
      "execution_count": null,
      "outputs": [
        {
          "output_type": "stream",
          "name": "stdout",
          "text": [
            "hello\n",
            "l\n",
            "llo world\n",
            "hell\n",
            "hlo\n",
            "\n"
          ]
        }
      ]
    },
    {
      "cell_type": "code",
      "source": [
        "k = \"hello world\"\n",
        "print(k[-5:])\n",
        "print(k[-1:-6:-1])"
      ],
      "metadata": {
        "colab": {
          "base_uri": "https://localhost:8080/"
        },
        "id": "YyX--54iHG_T",
        "outputId": "3bfa3a57-45fd-44e2-d2d8-ce15c37919e3"
      },
      "execution_count": null,
      "outputs": [
        {
          "output_type": "stream",
          "name": "stdout",
          "text": [
            "world\n",
            "dlrow\n"
          ]
        }
      ]
    },
    {
      "cell_type": "code",
      "source": [
        "t = \"hello world\"\n",
        "t[0] = \"T\"\n",
        "print(t)\n",
        "# Python strings are immutable that is it cannot be changed which implies you cannot edit the string"
      ],
      "metadata": {
        "colab": {
          "base_uri": "https://localhost:8080/",
          "height": 193
        },
        "id": "ml6zgdvKHHCX",
        "outputId": "10711f7f-3dfa-44b8-a0c4-3c03ceead1ce"
      },
      "execution_count": null,
      "outputs": [
        {
          "output_type": "error",
          "ename": "TypeError",
          "evalue": "'str' object does not support item assignment",
          "traceback": [
            "\u001b[0;31m---------------------------------------------------------------------------\u001b[0m",
            "\u001b[0;31mTypeError\u001b[0m                                 Traceback (most recent call last)",
            "\u001b[0;32m<ipython-input-46-052465b498cb>\u001b[0m in \u001b[0;36m<cell line: 0>\u001b[0;34m()\u001b[0m\n\u001b[1;32m      1\u001b[0m \u001b[0mt\u001b[0m \u001b[0;34m=\u001b[0m \u001b[0;34m\"hello world\"\u001b[0m\u001b[0;34m\u001b[0m\u001b[0;34m\u001b[0m\u001b[0m\n\u001b[0;32m----> 2\u001b[0;31m \u001b[0mt\u001b[0m\u001b[0;34m[\u001b[0m\u001b[0;36m0\u001b[0m\u001b[0;34m]\u001b[0m \u001b[0;34m=\u001b[0m \u001b[0;34m\"T\"\u001b[0m\u001b[0;34m\u001b[0m\u001b[0;34m\u001b[0m\u001b[0m\n\u001b[0m\u001b[1;32m      3\u001b[0m \u001b[0mprint\u001b[0m\u001b[0;34m(\u001b[0m\u001b[0mt\u001b[0m\u001b[0;34m)\u001b[0m\u001b[0;34m\u001b[0m\u001b[0;34m\u001b[0m\u001b[0m\n\u001b[1;32m      4\u001b[0m \u001b[0;31m# Python strings are immutable that is it cannot be changed which implies you cannot edit the string\u001b[0m\u001b[0;34m\u001b[0m\u001b[0;34m\u001b[0m\u001b[0m\n",
            "\u001b[0;31mTypeError\u001b[0m: 'str' object does not support item assignment"
          ]
        }
      ]
    },
    {
      "cell_type": "code",
      "source": [
        "q= \"hello world\"\n",
        "print(q)\n",
        "del(q)\n",
        "# print(q)"
      ],
      "metadata": {
        "colab": {
          "base_uri": "https://localhost:8080/"
        },
        "id": "i1FciiwUHHFS",
        "outputId": "4ea260f8-7288-4a57-8603-fa261fb0d75a"
      },
      "execution_count": null,
      "outputs": [
        {
          "output_type": "stream",
          "name": "stdout",
          "text": [
            "hello world\n"
          ]
        }
      ]
    },
    {
      "cell_type": "code",
      "source": [
        "q= \"hello world\"\n",
        "del(q[-1:2:2])\n",
        "print(q)"
      ],
      "metadata": {
        "colab": {
          "base_uri": "https://localhost:8080/",
          "height": 176
        },
        "id": "L2nA0s73HHIG",
        "outputId": "b959eeb4-7f7f-4285-9330-87a2d0cf2641"
      },
      "execution_count": null,
      "outputs": [
        {
          "output_type": "error",
          "ename": "TypeError",
          "evalue": "'str' object does not support item deletion",
          "traceback": [
            "\u001b[0;31m---------------------------------------------------------------------------\u001b[0m",
            "\u001b[0;31mTypeError\u001b[0m                                 Traceback (most recent call last)",
            "\u001b[0;32m<ipython-input-45-23c965f12e20>\u001b[0m in \u001b[0;36m<cell line: 0>\u001b[0;34m()\u001b[0m\n\u001b[1;32m      1\u001b[0m \u001b[0mq\u001b[0m\u001b[0;34m=\u001b[0m \u001b[0;34m\"hello world\"\u001b[0m\u001b[0;34m\u001b[0m\u001b[0;34m\u001b[0m\u001b[0m\n\u001b[0;32m----> 2\u001b[0;31m \u001b[0;32mdel\u001b[0m\u001b[0;34m(\u001b[0m\u001b[0mq\u001b[0m\u001b[0;34m[\u001b[0m\u001b[0;34m-\u001b[0m\u001b[0;36m1\u001b[0m\u001b[0;34m:\u001b[0m\u001b[0;36m2\u001b[0m\u001b[0;34m:\u001b[0m\u001b[0;36m2\u001b[0m\u001b[0;34m]\u001b[0m\u001b[0;34m)\u001b[0m\u001b[0;34m\u001b[0m\u001b[0;34m\u001b[0m\u001b[0m\n\u001b[0m\u001b[1;32m      3\u001b[0m \u001b[0mprint\u001b[0m\u001b[0;34m(\u001b[0m\u001b[0mq\u001b[0m\u001b[0;34m)\u001b[0m\u001b[0;34m\u001b[0m\u001b[0;34m\u001b[0m\u001b[0m\n",
            "\u001b[0;31mTypeError\u001b[0m: 'str' object does not support item deletion"
          ]
        }
      ]
    },
    {
      "cell_type": "code",
      "source": [
        "print('delhi' + 'Mumbai')"
      ],
      "metadata": {
        "colab": {
          "base_uri": "https://localhost:8080/"
        },
        "id": "zb37Llj9SKfr",
        "outputId": "52220038-c8d4-4d78-9693-0cc7293e050e"
      },
      "execution_count": null,
      "outputs": [
        {
          "output_type": "stream",
          "name": "stdout",
          "text": [
            "delhiMumbai\n"
          ]
        }
      ]
    },
    {
      "cell_type": "code",
      "source": [
        "print('delhi'+ ' ' \"Gujrat\")"
      ],
      "metadata": {
        "colab": {
          "base_uri": "https://localhost:8080/"
        },
        "id": "OK9HfHGfSKi1",
        "outputId": "e1bc4a84-5cad-4d74-f87e-b5474ac42aa7"
      },
      "execution_count": null,
      "outputs": [
        {
          "output_type": "stream",
          "name": "stdout",
          "text": [
            "delhi Gujrat\n"
          ]
        }
      ]
    },
    {
      "cell_type": "code",
      "source": [
        "print(\"delhi\"*10)"
      ],
      "metadata": {
        "colab": {
          "base_uri": "https://localhost:8080/"
        },
        "id": "8LkYX5i9SKmH",
        "outputId": "21ba41be-1be5-4df6-ad09-3e9f6c76fb58"
      },
      "execution_count": null,
      "outputs": [
        {
          "output_type": "stream",
          "name": "stdout",
          "text": [
            "delhidelhidelhidelhidelhidelhidelhidelhidelhidelhi\n"
          ]
        }
      ]
    },
    {
      "cell_type": "code",
      "source": [
        "'delhi' == 'Delhi'\n",
        "'delhi' == 'delhi'\n",
        "'mumbai' == 'delhi'"
      ],
      "metadata": {
        "colab": {
          "base_uri": "https://localhost:8080/"
        },
        "id": "eOzEeaB-SKpD",
        "outputId": "e596fe50-dab6-47a8-d3ce-0e0f8d2fb219"
      },
      "execution_count": null,
      "outputs": [
        {
          "output_type": "execute_result",
          "data": {
            "text/plain": [
              "False"
            ]
          },
          "metadata": {},
          "execution_count": 53
        }
      ]
    },
    {
      "cell_type": "code",
      "source": [
        "'delhi' > 'abcde'"
      ],
      "metadata": {
        "colab": {
          "base_uri": "https://localhost:8080/"
        },
        "id": "DBUHjJh4SKsG",
        "outputId": "4efb10fc-3db5-4c12-bd56-e98a5030ba4c"
      },
      "execution_count": null,
      "outputs": [
        {
          "output_type": "execute_result",
          "data": {
            "text/plain": [
              "True"
            ]
          },
          "metadata": {},
          "execution_count": 54
        }
      ]
    },
    {
      "cell_type": "code",
      "source": [
        "'mumbai' > 'pune' # lexicographically comparison"
      ],
      "metadata": {
        "colab": {
          "base_uri": "https://localhost:8080/"
        },
        "id": "221MTnMbSKu6",
        "outputId": "0e3f8cd0-5ca8-4917-afaa-e01589b2c4c3"
      },
      "execution_count": null,
      "outputs": [
        {
          "output_type": "execute_result",
          "data": {
            "text/plain": [
              "False"
            ]
          },
          "metadata": {},
          "execution_count": 55
        }
      ]
    },
    {
      "cell_type": "code",
      "source": [
        "'Pune' > 'pune'"
      ],
      "metadata": {
        "colab": {
          "base_uri": "https://localhost:8080/"
        },
        "id": "yxtyIRf7SKxx",
        "outputId": "b5e5f188-7b26-45ff-dbd2-a156634c4657"
      },
      "execution_count": null,
      "outputs": [
        {
          "output_type": "execute_result",
          "data": {
            "text/plain": [
              "False"
            ]
          },
          "metadata": {},
          "execution_count": 56
        }
      ]
    },
    {
      "cell_type": "code",
      "source": [
        "'hello' and 'world' # True and True"
      ],
      "metadata": {
        "colab": {
          "base_uri": "https://localhost:8080/",
          "height": 36
        },
        "id": "7dgG7szvSK0i",
        "outputId": "06229b59-e90e-4fb4-b380-3f9f540263c5"
      },
      "execution_count": null,
      "outputs": [
        {
          "output_type": "execute_result",
          "data": {
            "text/plain": [
              "'world'"
            ],
            "application/vnd.google.colaboratory.intrinsic+json": {
              "type": "string"
            }
          },
          "metadata": {},
          "execution_count": 57
        }
      ]
    },
    {
      "cell_type": "code",
      "source": [
        "'hello' or 'world' # True or False"
      ],
      "metadata": {
        "colab": {
          "base_uri": "https://localhost:8080/",
          "height": 36
        },
        "id": "0-cc79jQSK3g",
        "outputId": "948945b3-8ec6-4543-cc05-02ccf3e66f0c"
      },
      "execution_count": null,
      "outputs": [
        {
          "output_type": "execute_result",
          "data": {
            "text/plain": [
              "'hello'"
            ],
            "application/vnd.google.colaboratory.intrinsic+json": {
              "type": "string"
            }
          },
          "metadata": {},
          "execution_count": 58
        }
      ]
    },
    {
      "cell_type": "code",
      "source": [],
      "metadata": {
        "id": "-zYW5i3np7D9"
      },
      "execution_count": null,
      "outputs": []
    },
    {
      "cell_type": "code",
      "source": [
        "not ''"
      ],
      "metadata": {
        "colab": {
          "base_uri": "https://localhost:8080/"
        },
        "id": "iOx53Nd7SK6g",
        "outputId": "040353f4-5c80-48ca-8c00-683d9a06a5a5"
      },
      "execution_count": null,
      "outputs": [
        {
          "output_type": "execute_result",
          "data": {
            "text/plain": [
              "True"
            ]
          },
          "metadata": {},
          "execution_count": 59
        }
      ]
    },
    {
      "cell_type": "code",
      "source": [
        "not 'Hello'"
      ],
      "metadata": {
        "colab": {
          "base_uri": "https://localhost:8080/"
        },
        "id": "lff-dBMKSK9F",
        "outputId": "50914a6d-5a7f-47f2-f250-ab71999c1fc1"
      },
      "execution_count": null,
      "outputs": [
        {
          "output_type": "execute_result",
          "data": {
            "text/plain": [
              "False"
            ]
          },
          "metadata": {},
          "execution_count": 60
        }
      ]
    },
    {
      "cell_type": "code",
      "source": [
        "name = 'rocket'\n",
        "\n",
        "for i in name:\n",
        "  print(i)"
      ],
      "metadata": {
        "colab": {
          "base_uri": "https://localhost:8080/"
        },
        "id": "SwRhYMACSLAH",
        "outputId": "5566d0c4-14c8-4b64-dff8-eb49513972f0"
      },
      "execution_count": null,
      "outputs": [
        {
          "output_type": "stream",
          "name": "stdout",
          "text": [
            "r\n",
            "o\n",
            "c\n",
            "k\n",
            "e\n",
            "t\n"
          ]
        }
      ]
    },
    {
      "cell_type": "code",
      "source": [
        "for i in 'name':\n",
        "  print('pune')"
      ],
      "metadata": {
        "colab": {
          "base_uri": "https://localhost:8080/"
        },
        "id": "VdVORoBCSLCt",
        "outputId": "2719c263-bd61-4f67-a12a-92a88ef5c002"
      },
      "execution_count": null,
      "outputs": [
        {
          "output_type": "stream",
          "name": "stdout",
          "text": [
            "pune\n",
            "pune\n",
            "pune\n",
            "pune\n"
          ]
        }
      ]
    },
    {
      "cell_type": "code",
      "source": [
        "# Membership operators\n",
        "'D' in 'delhi'"
      ],
      "metadata": {
        "colab": {
          "base_uri": "https://localhost:8080/"
        },
        "id": "3b2IbM4ESLFa",
        "outputId": "2e4dd3a3-ce98-4f73-9e5b-cd5eaa9060cd"
      },
      "execution_count": null,
      "outputs": [
        {
          "output_type": "execute_result",
          "data": {
            "text/plain": [
              "False"
            ]
          },
          "metadata": {},
          "execution_count": 64
        }
      ]
    },
    {
      "cell_type": "code",
      "source": [
        "'D' in 'Delhi'"
      ],
      "metadata": {
        "colab": {
          "base_uri": "https://localhost:8080/"
        },
        "id": "PZ1HDx1qHHK9",
        "outputId": "97b80150-0a80-4292-f31f-8da63fe6f305"
      },
      "execution_count": null,
      "outputs": [
        {
          "output_type": "execute_result",
          "data": {
            "text/plain": [
              "True"
            ]
          },
          "metadata": {},
          "execution_count": 65
        }
      ]
    },
    {
      "cell_type": "code",
      "source": [
        "'D' not in 'delhi'"
      ],
      "metadata": {
        "colab": {
          "base_uri": "https://localhost:8080/"
        },
        "id": "FNmRKN9UHHN9",
        "outputId": "99a99a57-15c8-4d4d-a1cc-38f54d6b74ca"
      },
      "execution_count": null,
      "outputs": [
        {
          "output_type": "execute_result",
          "data": {
            "text/plain": [
              "True"
            ]
          },
          "metadata": {},
          "execution_count": 66
        }
      ]
    },
    {
      "cell_type": "code",
      "source": [
        "print(len(\"hello world\"))"
      ],
      "metadata": {
        "colab": {
          "base_uri": "https://localhost:8080/"
        },
        "id": "Yyq_JLgZu42X",
        "outputId": "f4c3cb5a-5ad8-4348-9fae-2a1fd0626ab2"
      },
      "execution_count": null,
      "outputs": [
        {
          "output_type": "stream",
          "name": "stdout",
          "text": [
            "11\n"
          ]
        }
      ]
    },
    {
      "cell_type": "code",
      "source": [
        "print(max(\"hello world\")) # max value based on ascii"
      ],
      "metadata": {
        "id": "mhXrvD4qu45J"
      },
      "execution_count": null,
      "outputs": []
    },
    {
      "cell_type": "code",
      "source": [
        "print(min(\"hello world\")) # min value based on the ascii"
      ],
      "metadata": {
        "id": "PuyESzILu479"
      },
      "execution_count": null,
      "outputs": []
    },
    {
      "cell_type": "code",
      "source": [
        "print(sorted(\"hello world\")) # return type is list and ordered in ascending order based on ascii values"
      ],
      "metadata": {
        "colab": {
          "base_uri": "https://localhost:8080/"
        },
        "id": "ED_zKEPCu4-t",
        "outputId": "0d9327a7-6932-4a37-aa93-6a257ff7fd71"
      },
      "execution_count": null,
      "outputs": [
        {
          "output_type": "stream",
          "name": "stdout",
          "text": [
            "[' ', 'd', 'e', 'h', 'l', 'l', 'l', 'o', 'o', 'r', 'w']\n"
          ]
        }
      ]
    },
    {
      "cell_type": "code",
      "source": [
        "sorted(\"sahil\", reverse=True)"
      ],
      "metadata": {
        "colab": {
          "base_uri": "https://localhost:8080/"
        },
        "id": "jiLGxOZku5BV",
        "outputId": "00a7159c-fbc9-46ff-8f9e-8b6e6e721f51"
      },
      "execution_count": null,
      "outputs": [
        {
          "output_type": "execute_result",
          "data": {
            "text/plain": [
              "['s', 'l', 'i', 'h', 'a']"
            ]
          },
          "metadata": {},
          "execution_count": 69
        }
      ]
    },
    {
      "cell_type": "code",
      "source": [
        "s = 'hEllo wWrld'\n",
        "s.capitalize()"
      ],
      "metadata": {
        "colab": {
          "base_uri": "https://localhost:8080/",
          "height": 36
        },
        "id": "wQRDHErAu5EE",
        "outputId": "c5bcd113-d963-46f9-d235-0147686cafd2"
      },
      "execution_count": null,
      "outputs": [
        {
          "output_type": "execute_result",
          "data": {
            "text/plain": [
              "'Hello wwrld'"
            ],
            "application/vnd.google.colaboratory.intrinsic+json": {
              "type": "string"
            }
          },
          "metadata": {},
          "execution_count": 74
        }
      ]
    },
    {
      "cell_type": "code",
      "source": [
        "p = ' this is a paragraph and i wILL apply title function on this '\n",
        "p.title()"
      ],
      "metadata": {
        "colab": {
          "base_uri": "https://localhost:8080/",
          "height": 36
        },
        "id": "zrhvbvgCu5Gy",
        "outputId": "8331a0d9-32a2-4310-ceb0-f65362e75af7"
      },
      "execution_count": null,
      "outputs": [
        {
          "output_type": "execute_result",
          "data": {
            "text/plain": [
              "' This Is A Paragraph And I Will Apply Title Function On This '"
            ],
            "application/vnd.google.colaboratory.intrinsic+json": {
              "type": "string"
            }
          },
          "metadata": {},
          "execution_count": 76
        }
      ]
    },
    {
      "cell_type": "code",
      "source": [
        "q = 'hi this is to test'\n",
        "q.upper()\n"
      ],
      "metadata": {
        "colab": {
          "base_uri": "https://localhost:8080/",
          "height": 36
        },
        "id": "2m6oXGq4u5Jb",
        "outputId": "4ac70a84-9b18-4822-f127-854a1e4e1fe7"
      },
      "execution_count": null,
      "outputs": [
        {
          "output_type": "execute_result",
          "data": {
            "text/plain": [
              "'HI THIS IS TO TEST'"
            ],
            "application/vnd.google.colaboratory.intrinsic+json": {
              "type": "string"
            }
          },
          "metadata": {},
          "execution_count": 78
        }
      ]
    },
    {
      "cell_type": "code",
      "source": [
        "r = 'THISIISISKLASCLASLC'\n",
        "r.lower()"
      ],
      "metadata": {
        "colab": {
          "base_uri": "https://localhost:8080/",
          "height": 36
        },
        "id": "ZLZm9gnIu5L9",
        "outputId": "a1773100-4477-4e5e-fbab-ab6c3f80e296"
      },
      "execution_count": null,
      "outputs": [
        {
          "output_type": "execute_result",
          "data": {
            "text/plain": [
              "'thisiisisklasclaslc'"
            ],
            "application/vnd.google.colaboratory.intrinsic+json": {
              "type": "string"
            }
          },
          "metadata": {},
          "execution_count": 77
        }
      ]
    },
    {
      "cell_type": "code",
      "source": [
        "g = \"This is TO tesT sWaPP Case\"\n",
        "g.swapcase()"
      ],
      "metadata": {
        "colab": {
          "base_uri": "https://localhost:8080/",
          "height": 36
        },
        "id": "K97lff_uu5OX",
        "outputId": "c892aea6-722c-4eaa-f842-f9e968a41ee7"
      },
      "execution_count": null,
      "outputs": [
        {
          "output_type": "execute_result",
          "data": {
            "text/plain": [
              "'tHIS IS to TESt SwApp cASE'"
            ],
            "application/vnd.google.colaboratory.intrinsic+json": {
              "type": "string"
            }
          },
          "metadata": {},
          "execution_count": 79
        }
      ]
    },
    {
      "cell_type": "code",
      "source": [
        "'my name is a testidng'.count('i')"
      ],
      "metadata": {
        "colab": {
          "base_uri": "https://localhost:8080/"
        },
        "id": "xbT2RBabu5RN",
        "outputId": "ad686dab-dec0-459d-c0e0-1c6e06056ec8"
      },
      "execution_count": null,
      "outputs": [
        {
          "output_type": "execute_result",
          "data": {
            "text/plain": [
              "2"
            ]
          },
          "metadata": {},
          "execution_count": 83
        }
      ]
    },
    {
      "cell_type": "code",
      "source": [
        "'my name is a testidng'.find('g') # returns the index"
      ],
      "metadata": {
        "colab": {
          "base_uri": "https://localhost:8080/"
        },
        "id": "ZpqbpvAou5UF",
        "outputId": "1638fa01-d235-40dc-9700-5e9554e35321"
      },
      "execution_count": null,
      "outputs": [
        {
          "output_type": "execute_result",
          "data": {
            "text/plain": [
              "20"
            ]
          },
          "metadata": {},
          "execution_count": 88
        }
      ]
    },
    {
      "cell_type": "code",
      "source": [
        "name = 'nitish'\n",
        "gender = 'male'\n",
        "' Hi my name is {} and I am a {}'.format(name,gender)"
      ],
      "metadata": {
        "colab": {
          "base_uri": "https://localhost:8080/",
          "height": 36
        },
        "id": "GJngTFSyzPTq",
        "outputId": "389b5ed5-6eb3-4226-ac5d-48a277f4d979"
      },
      "execution_count": null,
      "outputs": [
        {
          "output_type": "execute_result",
          "data": {
            "text/plain": [
              "' Hi my name is nitish and I am a male'"
            ],
            "application/vnd.google.colaboratory.intrinsic+json": {
              "type": "string"
            }
          },
          "metadata": {},
          "execution_count": 89
        }
      ]
    },
    {
      "cell_type": "code",
      "source": [
        "name = input(\"Enter your name\")\n",
        "print(\" Hello {}\".format(name))"
      ],
      "metadata": {
        "colab": {
          "base_uri": "https://localhost:8080/"
        },
        "id": "HOPu0WdGzPWs",
        "outputId": "0a1ed25f-7b1e-40f6-c1b1-ad99dd6fdb91"
      },
      "execution_count": null,
      "outputs": [
        {
          "output_type": "stream",
          "name": "stdout",
          "text": [
            "Enter your namebonki\n",
            " Hello bonki\n"
          ]
        }
      ]
    },
    {
      "cell_type": "code",
      "source": [
        "gt1 = 'nitish123%'\n",
        "gt1.isalnum()"
      ],
      "metadata": {
        "colab": {
          "base_uri": "https://localhost:8080/"
        },
        "id": "W-psN7sAzPZl",
        "outputId": "214db65f-5ccc-4ee8-fd69-0487907e128e"
      },
      "execution_count": null,
      "outputs": [
        {
          "output_type": "execute_result",
          "data": {
            "text/plain": [
              "False"
            ]
          },
          "metadata": {},
          "execution_count": 100
        }
      ]
    },
    {
      "cell_type": "code",
      "source": [
        "gt = 'nitish23'\n",
        "gt.isalnum()"
      ],
      "metadata": {
        "colab": {
          "base_uri": "https://localhost:8080/"
        },
        "id": "Qskra36zzPcU",
        "outputId": "98a663aa-4917-487e-f32d-ff21a04b9c68"
      },
      "execution_count": null,
      "outputs": [
        {
          "output_type": "execute_result",
          "data": {
            "text/plain": [
              "True"
            ]
          },
          "metadata": {},
          "execution_count": 102
        }
      ]
    },
    {
      "cell_type": "code",
      "source": [
        "gt.isalpha()"
      ],
      "metadata": {
        "colab": {
          "base_uri": "https://localhost:8080/"
        },
        "id": "LEMy8QRvzPez",
        "outputId": "9e0798c8-f8fd-4ef9-8221-8242ff170857"
      },
      "execution_count": null,
      "outputs": [
        {
          "output_type": "execute_result",
          "data": {
            "text/plain": [
              "False"
            ]
          },
          "metadata": {},
          "execution_count": 103
        }
      ]
    },
    {
      "cell_type": "code",
      "source": [
        "'1name'.isidentifier()"
      ],
      "metadata": {
        "colab": {
          "base_uri": "https://localhost:8080/"
        },
        "id": "TnRoqhMCzPhh",
        "outputId": "652322b0-1276-4db5-df3f-7aae3aedb3f9"
      },
      "execution_count": null,
      "outputs": [
        {
          "output_type": "execute_result",
          "data": {
            "text/plain": [
              "False"
            ]
          },
          "metadata": {},
          "execution_count": 104
        }
      ]
    },
    {
      "cell_type": "code",
      "source": [
        "name ='hi my name is nitish'.split()\n",
        "print(name)"
      ],
      "metadata": {
        "colab": {
          "base_uri": "https://localhost:8080/"
        },
        "id": "QGiGcgN9zPka",
        "outputId": "0139ed77-d04f-45e1-bab3-8126a3435373"
      },
      "execution_count": null,
      "outputs": [
        {
          "output_type": "stream",
          "name": "stdout",
          "text": [
            "['hi', 'my', 'name', 'is', 'nitish']\n"
          ]
        }
      ]
    },
    {
      "cell_type": "code",
      "source": [
        "' -'.join(name)"
      ],
      "metadata": {
        "colab": {
          "base_uri": "https://localhost:8080/",
          "height": 36
        },
        "id": "hRFnqYW9zPnQ",
        "outputId": "8b0208db-c4af-40cf-ef30-ba85cc1e1597"
      },
      "execution_count": null,
      "outputs": [
        {
          "output_type": "execute_result",
          "data": {
            "text/plain": [
              "'hi -my -name -is -nitish'"
            ],
            "application/vnd.google.colaboratory.intrinsic+json": {
              "type": "string"
            }
          },
          "metadata": {},
          "execution_count": 109
        }
      ]
    },
    {
      "cell_type": "code",
      "source": [
        "\" hi my name is nitish\" .replace('nitishff','rohan')"
      ],
      "metadata": {
        "colab": {
          "base_uri": "https://localhost:8080/",
          "height": 36
        },
        "id": "LIpruCwzzPp6",
        "outputId": "bc805a3f-1032-416d-e3fa-a6056e7ce8be"
      },
      "execution_count": null,
      "outputs": [
        {
          "output_type": "execute_result",
          "data": {
            "text/plain": [
              "' hi my name is nitish'"
            ],
            "application/vnd.google.colaboratory.intrinsic+json": {
              "type": "string"
            }
          },
          "metadata": {},
          "execution_count": 111
        }
      ]
    },
    {
      "cell_type": "code",
      "source": [
        "webdevdata = \"Hi this is a\"\n",
        "print(webdevdata)\n",
        "webdevdata.strip()\n"
      ],
      "metadata": {
        "colab": {
          "base_uri": "https://localhost:8080/",
          "height": 53
        },
        "id": "uZDmmzFvzPs_",
        "outputId": "2f82ffe6-7dee-4df1-e279-cdfc9f29bf05"
      },
      "execution_count": null,
      "outputs": [
        {
          "output_type": "stream",
          "name": "stdout",
          "text": [
            "Hi this is a\n"
          ]
        },
        {
          "output_type": "execute_result",
          "data": {
            "text/plain": [
              "'Hi this is a'"
            ],
            "application/vnd.google.colaboratory.intrinsic+json": {
              "type": "string"
            }
          },
          "metadata": {},
          "execution_count": 115
        }
      ]
    },
    {
      "cell_type": "code",
      "source": [
        "# Find the lenght of a string without using a reverse function\n",
        "print(\"Enter a string\")\n",
        "name = input().strip()\n",
        "\n",
        "\n",
        "counter =0\n",
        "for i in name:\n",
        "  counter = counter +1\n",
        "\n",
        "print(\"The length of the strings is \" + \" \" ,counter)\n",
        "print(len(name))"
      ],
      "metadata": {
        "colab": {
          "base_uri": "https://localhost:8080/"
        },
        "id": "ed71VA4L3YpF",
        "outputId": "80e5c488-bfd6-4b60-c0e3-d2471a91e3e1"
      },
      "execution_count": null,
      "outputs": [
        {
          "output_type": "stream",
          "name": "stdout",
          "text": [
            "Enter a string\n",
            "rojajaja                                           \n",
            "The length of the strings is   8\n",
            "8\n"
          ]
        }
      ]
    },
    {
      "cell_type": "code",
      "source": [
        "#Extract username from the given email\n",
        "# for example nitish12Sigh3@gmail.com\n",
        "\n",
        "email = \"nitish12Sigh3@gmail.com\"\n",
        "email.split('@')\n"
      ],
      "metadata": {
        "colab": {
          "base_uri": "https://localhost:8080/"
        },
        "id": "88_120cf4Ys3",
        "outputId": "fbea6af4-e521-484d-ebd7-fe0c550328f4"
      },
      "execution_count": null,
      "outputs": [
        {
          "output_type": "execute_result",
          "data": {
            "text/plain": [
              "['nitish12Sigh3', 'gmail.com']"
            ]
          },
          "metadata": {},
          "execution_count": 125
        }
      ]
    },
    {
      "cell_type": "code",
      "source": [
        "email = \"nitish12Sigh3@gmail.com\"\n",
        "email.find('@')"
      ],
      "metadata": {
        "colab": {
          "base_uri": "https://localhost:8080/"
        },
        "id": "fR55gOgU5uZz",
        "outputId": "47ba110b-bc63-4994-fb29-48aef80a55d2"
      },
      "execution_count": null,
      "outputs": [
        {
          "output_type": "execute_result",
          "data": {
            "text/plain": [
              "13"
            ]
          },
          "metadata": {},
          "execution_count": 126
        }
      ]
    },
    {
      "cell_type": "code",
      "source": [
        "email = \"nitish12Sigh3@gmail.com\"\n",
        "pos = email.index('@')\n",
        "print(email[:pos])"
      ],
      "metadata": {
        "colab": {
          "base_uri": "https://localhost:8080/"
        },
        "id": "baSQFSbA8Lyu",
        "outputId": "22405d3d-f90b-43c7-aa14-8d8783ef0434"
      },
      "execution_count": null,
      "outputs": [
        {
          "output_type": "stream",
          "name": "stdout",
          "text": [
            "nitish12Sigh3\n"
          ]
        }
      ]
    },
    {
      "cell_type": "code",
      "source": [
        "# count the frequency of the particular chracter in  a string\n",
        "\n",
        "Myname = input(\"enter your name\")\n",
        "term = input(\"What you like to search\")\n",
        "counter = 0\n",
        "for u in Myname:\n",
        "  if( u == term):\n",
        "    counter = counter +1\n",
        "\n",
        "print(counter)"
      ],
      "metadata": {
        "colab": {
          "base_uri": "https://localhost:8080/"
        },
        "id": "acpMki4V8hme",
        "outputId": "57e3c9df-7ae2-48f5-bceb-baa6c3268bac"
      },
      "execution_count": null,
      "outputs": [
        {
          "output_type": "stream",
          "name": "stdout",
          "text": [
            "enter your namerok\n",
            "What you like to searchh\n",
            "0\n"
          ]
        }
      ]
    },
    {
      "cell_type": "code",
      "source": [
        "# remove a particular chracter from a string\n",
        "\n",
        "name = input(\"enter any string\")\n",
        "ele = input(\"enter the ele you want to remove\")\n",
        "result = ''\n",
        "for i in name:\n",
        "  if(i!= ele):\n",
        "    result = result + r\n",
        "\n",
        "\n",
        "print(result)\n"
      ],
      "metadata": {
        "colab": {
          "base_uri": "https://localhost:8080/"
        },
        "id": "ekgAh3ou8hpq",
        "outputId": "6dd027bd-ec47-40fa-a92d-8f8f4457fa1b"
      },
      "execution_count": null,
      "outputs": [
        {
          "output_type": "stream",
          "name": "stdout",
          "text": [
            "enter any stringsahil\n",
            "enter the ele you want to removea\n",
            "shil\n"
          ]
        }
      ]
    },
    {
      "cell_type": "code",
      "source": [
        "d= dict()\n",
        "d['a'] = 'test'\n",
        "print(d)\n",
        "print(type(d))"
      ],
      "metadata": {
        "id": "ziXipQfs8hvQ",
        "colab": {
          "base_uri": "https://localhost:8080/"
        },
        "outputId": "9442df0b-1c79-4fcd-c01d-f776f20ffc61"
      },
      "execution_count": 2,
      "outputs": [
        {
          "output_type": "stream",
          "name": "stdout",
          "text": [
            "{'a': 'test'}\n",
            "<class 'dict'>\n"
          ]
        }
      ]
    },
    {
      "cell_type": "code",
      "source": [
        "records = {}\n",
        "n = int(input(\"enter the number of students\"))\n",
        "i =1\n",
        "while i<=n:\n",
        "  roll_no = input(\"Enter the roll no for student {}\".format(i))\n",
        "  name = input(\"Enter the name for the student {}\".format(i))\n",
        "  records[roll_no] = name\n",
        "  i = i+1\n",
        "\n",
        "for x in records:\n",
        "  print(records[x])\n",
        "print('*'* 12)\n",
        "for x in records:\n",
        "  print(x)\n",
        "\n",
        "\n"
      ],
      "metadata": {
        "id": "ib0tXhJg8hyE",
        "colab": {
          "base_uri": "https://localhost:8080/"
        },
        "outputId": "b288503a-b017-4247-fc5d-97b2582471f1"
      },
      "execution_count": 5,
      "outputs": [
        {
          "output_type": "stream",
          "name": "stdout",
          "text": [
            "enter the number of students4\n",
            "Enter the roll no for student 112\n",
            "Enter the name for the student 1rohan\n",
            "Enter the roll no for student 213\n",
            "Enter the name for the student 2sam\n",
            "Enter the roll no for student 3115\n",
            "Enter the name for the student 3jacky\n",
            "Enter the roll no for student 4214\n",
            "Enter the name for the student 4baja\n",
            "rohan\n",
            "sam\n",
            "jacky\n",
            "baja\n",
            "************\n",
            "12\n",
            "13\n",
            "115\n",
            "214\n"
          ]
        }
      ]
    },
    {
      "cell_type": "code",
      "source": [
        "d2 = {101:'ravi',102:'shiva',103:'mitwa'}\n",
        "print(d2)\n",
        "d2[103] = 'macmohan' # key is already available then old value will be updated\n",
        "print(d2)\n",
        "\n",
        "d2[104] = 'mitwan' # new key means new record will be added\n",
        "print(d2)\n"
      ],
      "metadata": {
        "colab": {
          "base_uri": "https://localhost:8080/"
        },
        "id": "txyIJBNTAsQl",
        "outputId": "ef31f791-9a3a-4537-b30a-510da1999435"
      },
      "execution_count": 8,
      "outputs": [
        {
          "output_type": "stream",
          "name": "stdout",
          "text": [
            "{101: 'ravi', 102: 'shiva', 103: 'mitwa'}\n",
            "{101: 'ravi', 102: 'shiva', 103: 'macmohan'}\n",
            "{101: 'ravi', 102: 'shiva', 103: 'macmohan', 104: 'mitwan'}\n"
          ]
        }
      ]
    },
    {
      "cell_type": "code",
      "source": [
        "# delete elements from the dictionary\n",
        "# del operator is used\n",
        "# del d[key]  if the key is already available , then total key and corresponding will be removed\n",
        "del d2[104]\n",
        "print(d2)"
      ],
      "metadata": {
        "colab": {
          "base_uri": "https://localhost:8080/"
        },
        "id": "2YvhloeFDwPk",
        "outputId": "aa18aff3-9cc8-4f06-b523-c0e824bb317e"
      },
      "execution_count": 9,
      "outputs": [
        {
          "output_type": "stream",
          "name": "stdout",
          "text": [
            "{101: 'ravi', 102: 'shiva', 103: 'macmohan'}\n"
          ]
        }
      ]
    },
    {
      "cell_type": "code",
      "source": [
        "# if the key is not available then key error\n",
        "del d2[104]"
      ],
      "metadata": {
        "id": "UZ4ysLIwDwdS"
      },
      "execution_count": 12,
      "outputs": []
    },
    {
      "cell_type": "code",
      "source": [
        "# to remove all the key value pair then  clear()\n",
        "\n",
        "d2.clear()\n",
        "print(d2)\n",
        "d3 = {101: 'ravi', 102: 'shiva', 103: 'macmohan', 104: 'mitwan'}\n",
        "print(d3)\n",
        "del d3\n",
        "# print(d3)"
      ],
      "metadata": {
        "colab": {
          "base_uri": "https://localhost:8080/"
        },
        "id": "31zuCmmwEJB-",
        "outputId": "f6dabfa3-e895-494e-c694-84acee63f914"
      },
      "execution_count": 15,
      "outputs": [
        {
          "output_type": "stream",
          "name": "stdout",
          "text": [
            "{}\n",
            "{101: 'ravi', 102: 'shiva', 103: 'macmohan', 104: 'mitwan'}\n"
          ]
        }
      ]
    },
    {
      "cell_type": "markdown",
      "source": [],
      "metadata": {
        "id": "vInitm--G4E9"
      }
    },
    {
      "cell_type": "code",
      "source": [
        "l = ['durga','ravi','shami']\n",
        "d ={101:[l]}\n",
        "print(d)"
      ],
      "metadata": {
        "colab": {
          "base_uri": "https://localhost:8080/"
        },
        "id": "PaoCT8sfG3pF",
        "outputId": "d5b43b67-e309-4186-ab00-4a5b4b57b4b1"
      },
      "execution_count": 18,
      "outputs": [
        {
          "output_type": "stream",
          "name": "stdout",
          "text": [
            "{101: [['durga', 'ravi', 'shami']]}\n"
          ]
        }
      ]
    },
    {
      "cell_type": "code",
      "source": [
        "\n",
        "d = dict([(100,'durga'),(200,'shiva'),(300,'mahesh')]) # dictionary as a list of tuples\n",
        "print(d)"
      ],
      "metadata": {
        "colab": {
          "base_uri": "https://localhost:8080/"
        },
        "id": "isc6M5XhG3aa",
        "outputId": "417aeca0-6312-4117-c574-4910a911e3ed"
      },
      "execution_count": 19,
      "outputs": [
        {
          "output_type": "stream",
          "name": "stdout",
          "text": [
            "{100: 'durga', 200: 'shiva', 300: 'mahesh'}\n"
          ]
        }
      ]
    },
    {
      "cell_type": "code",
      "source": [],
      "metadata": {
        "id": "6NyXQWGqN33_"
      },
      "execution_count": null,
      "outputs": []
    },
    {
      "cell_type": "code",
      "source": [
        "d = dict(((100,'durga'),(200,'shiva'),(300,'mahesh'))) # dictionary as a tuple of tuples\n",
        "print(d)"
      ],
      "metadata": {
        "colab": {
          "base_uri": "https://localhost:8080/"
        },
        "id": "yGTbL0GtG3D6",
        "outputId": "ebe18cae-8e25-4490-f589-285a5a97d9cc"
      },
      "execution_count": 20,
      "outputs": [
        {
          "output_type": "stream",
          "name": "stdout",
          "text": [
            "{100: 'durga', 200: 'shiva', 300: 'mahesh'}\n"
          ]
        }
      ]
    },
    {
      "cell_type": "code",
      "source": [
        "d = dict({(100,'durga'),(200,'shiva'),(300,'mahesh')}) # dictionary as a set of tuples\n",
        "print(d)"
      ],
      "metadata": {
        "colab": {
          "base_uri": "https://localhost:8080/"
        },
        "id": "OVOPghafNFSw",
        "outputId": "82c27a1f-4b32-4c35-8122-fbd7a25adb6c"
      },
      "execution_count": 21,
      "outputs": [
        {
          "output_type": "stream",
          "name": "stdout",
          "text": [
            "{200: 'shiva', 300: 'mahesh', 100: 'durga'}\n"
          ]
        }
      ]
    },
    {
      "cell_type": "markdown",
      "source": [
        "Internally only tuples can be used that are hashable , list are not hashable"
      ],
      "metadata": {
        "id": "pgEukQSuN7FR"
      }
    },
    {
      "cell_type": "code",
      "source": [
        "d = dict({[100,'durga'],[200,'shiva'],[300,'mahesh']}) # dictionary as a set of list objects\n",
        "print(d)"
      ],
      "metadata": {
        "colab": {
          "base_uri": "https://localhost:8080/",
          "height": 158
        },
        "id": "7ixt4QQ3NWj4",
        "outputId": "972dcb71-df20-41d8-9dda-062af38c7f11"
      },
      "execution_count": 22,
      "outputs": [
        {
          "output_type": "error",
          "ename": "TypeError",
          "evalue": "unhashable type: 'list'",
          "traceback": [
            "\u001b[0;31m---------------------------------------------------------------------------\u001b[0m",
            "\u001b[0;31mTypeError\u001b[0m                                 Traceback (most recent call last)",
            "\u001b[0;32m<ipython-input-22-a8ff0f4bb3ba>\u001b[0m in \u001b[0;36m<cell line: 0>\u001b[0;34m()\u001b[0m\n\u001b[0;32m----> 1\u001b[0;31m \u001b[0md\u001b[0m \u001b[0;34m=\u001b[0m \u001b[0mdict\u001b[0m\u001b[0;34m(\u001b[0m\u001b[0;34m{\u001b[0m\u001b[0;34m[\u001b[0m\u001b[0;36m100\u001b[0m\u001b[0;34m,\u001b[0m\u001b[0;34m'durga'\u001b[0m\u001b[0;34m]\u001b[0m\u001b[0;34m,\u001b[0m\u001b[0;34m[\u001b[0m\u001b[0;36m200\u001b[0m\u001b[0;34m,\u001b[0m\u001b[0;34m'shiva'\u001b[0m\u001b[0;34m]\u001b[0m\u001b[0;34m,\u001b[0m\u001b[0;34m[\u001b[0m\u001b[0;36m300\u001b[0m\u001b[0;34m,\u001b[0m\u001b[0;34m'mahesh'\u001b[0m\u001b[0;34m]\u001b[0m\u001b[0;34m}\u001b[0m\u001b[0;34m)\u001b[0m \u001b[0;31m# dictionary as a set of tuples\u001b[0m\u001b[0;34m\u001b[0m\u001b[0;34m\u001b[0m\u001b[0m\n\u001b[0m\u001b[1;32m      2\u001b[0m \u001b[0mprint\u001b[0m\u001b[0;34m(\u001b[0m\u001b[0md\u001b[0m\u001b[0;34m)\u001b[0m\u001b[0;34m\u001b[0m\u001b[0;34m\u001b[0m\u001b[0m\n",
            "\u001b[0;31mTypeError\u001b[0m: unhashable type: 'list'"
          ]
        }
      ]
    },
    {
      "cell_type": "code",
      "source": [
        "d = dict({101:'first',102:'second',103:'third'})\n",
        "len(d)\n",
        "d.clear()"
      ],
      "metadata": {
        "id": "Of7-Nl5gOQce"
      },
      "execution_count": 28,
      "outputs": []
    },
    {
      "cell_type": "markdown",
      "source": [
        "d.get(key) if key is not available then None\n",
        "d.get(key,default value ) if key is not available then Default value"
      ],
      "metadata": {
        "id": "20LRkDHyRarg"
      }
    },
    {
      "cell_type": "code",
      "source": [
        "d = dict({101:'first',102:'second',103:'third'})\n",
        "d.get(101) # key is available\n",
        "print(d.get(1011,'not available')) # key is not available then none\n",
        "\n",
        "print(d.get(500,'default value without keys'))\n",
        "print(d.get(101,'not available'))\n"
      ],
      "metadata": {
        "colab": {
          "base_uri": "https://localhost:8080/"
        },
        "id": "IL8YaZKuOQXZ",
        "outputId": "9c6a408c-6f92-47fb-a623-ed2c6f86dfc6"
      },
      "execution_count": 35,
      "outputs": [
        {
          "output_type": "stream",
          "name": "stdout",
          "text": [
            "not available\n",
            "default value without keys\n",
            "first\n"
          ]
        }
      ]
    },
    {
      "cell_type": "markdown",
      "source": [],
      "metadata": {
        "id": "6_ZW0V2tR4qZ"
      }
    },
    {
      "cell_type": "code",
      "source": [
        "d = dict({101:'first',102:'second',103:'third'})\n",
        "print(d)\n",
        "print(d.pop(101))\n",
        "# print(d.pop(111)) # key error\n",
        "print(d)\n"
      ],
      "metadata": {
        "colab": {
          "base_uri": "https://localhost:8080/"
        },
        "id": "X4z0jysRR4Le",
        "outputId": "ce51aceb-823c-46b2-fe45-bf77f37d616d"
      },
      "execution_count": 40,
      "outputs": [
        {
          "output_type": "stream",
          "name": "stdout",
          "text": [
            "{101: 'first', 102: 'second', 103: 'third'}\n",
            "first\n",
            "{102: 'second', 103: 'third'}\n"
          ]
        }
      ]
    },
    {
      "cell_type": "code",
      "source": [
        "d = dict({101:'first',102:'second',103:'third'})\n",
        "print(d.popitem())\n",
        "print(d.popitem())\n",
        "print(d.popitem())\n",
        "print(d.popitem())"
      ],
      "metadata": {
        "colab": {
          "base_uri": "https://localhost:8080/",
          "height": 228
        },
        "id": "E__4McSaOQPc",
        "outputId": "22d174d6-5423-4e6f-fc09-7127ec41306a"
      },
      "execution_count": 42,
      "outputs": [
        {
          "output_type": "stream",
          "name": "stdout",
          "text": [
            "(103, 'third')\n",
            "(102, 'second')\n",
            "(101, 'first')\n"
          ]
        },
        {
          "output_type": "error",
          "ename": "KeyError",
          "evalue": "'popitem(): dictionary is empty'",
          "traceback": [
            "\u001b[0;31m---------------------------------------------------------------------------\u001b[0m",
            "\u001b[0;31mKeyError\u001b[0m                                  Traceback (most recent call last)",
            "\u001b[0;32m<ipython-input-42-2318a4857f6b>\u001b[0m in \u001b[0;36m<cell line: 0>\u001b[0;34m()\u001b[0m\n\u001b[1;32m      3\u001b[0m \u001b[0mprint\u001b[0m\u001b[0;34m(\u001b[0m\u001b[0md\u001b[0m\u001b[0;34m.\u001b[0m\u001b[0mpopitem\u001b[0m\u001b[0;34m(\u001b[0m\u001b[0;34m)\u001b[0m\u001b[0;34m)\u001b[0m\u001b[0;34m\u001b[0m\u001b[0;34m\u001b[0m\u001b[0m\n\u001b[1;32m      4\u001b[0m \u001b[0mprint\u001b[0m\u001b[0;34m(\u001b[0m\u001b[0md\u001b[0m\u001b[0;34m.\u001b[0m\u001b[0mpopitem\u001b[0m\u001b[0;34m(\u001b[0m\u001b[0;34m)\u001b[0m\u001b[0;34m)\u001b[0m\u001b[0;34m\u001b[0m\u001b[0;34m\u001b[0m\u001b[0m\n\u001b[0;32m----> 5\u001b[0;31m \u001b[0mprint\u001b[0m\u001b[0;34m(\u001b[0m\u001b[0md\u001b[0m\u001b[0;34m.\u001b[0m\u001b[0mpopitem\u001b[0m\u001b[0;34m(\u001b[0m\u001b[0;34m)\u001b[0m\u001b[0;34m)\u001b[0m\u001b[0;34m\u001b[0m\u001b[0;34m\u001b[0m\u001b[0m\n\u001b[0m",
            "\u001b[0;31mKeyError\u001b[0m: 'popitem(): dictionary is empty'"
          ]
        }
      ]
    },
    {
      "cell_type": "code",
      "source": [
        "d = dict({101:'first',102:'second',103:'third'})\n",
        "print(d.keys())\n",
        "\n",
        "for i in d.keys():\n",
        "  print(i)"
      ],
      "metadata": {
        "colab": {
          "base_uri": "https://localhost:8080/"
        },
        "id": "8FlB1t81OQB9",
        "outputId": "5a640050-0116-46d2-a7a9-817c74a86e83"
      },
      "execution_count": 44,
      "outputs": [
        {
          "output_type": "stream",
          "name": "stdout",
          "text": [
            "dict_keys([101, 102, 103])\n",
            "101\n",
            "102\n",
            "103\n"
          ]
        }
      ]
    },
    {
      "cell_type": "code",
      "source": [
        "d = dict({101:'first',102:'second',103:'third'})\n",
        "print(d.values())\n",
        "\n",
        "for k in d.values():\n",
        "  print(k)"
      ],
      "metadata": {
        "colab": {
          "base_uri": "https://localhost:8080/"
        },
        "id": "eBFsnwGoeC4c",
        "outputId": "9d326d6f-07f6-4cba-fca3-5007e7fbf1d1"
      },
      "execution_count": 46,
      "outputs": [
        {
          "output_type": "stream",
          "name": "stdout",
          "text": [
            "dict_values(['first', 'second', 'third'])\n",
            "first\n",
            "second\n",
            "third\n"
          ]
        }
      ]
    },
    {
      "cell_type": "code",
      "source": [
        "d = dict({101:'first',102:'second',103:'third'})\n",
        "print(d.items()) # list of tuples\n",
        "\n",
        "for x in d.items():\n",
        "  print(x)"
      ],
      "metadata": {
        "colab": {
          "base_uri": "https://localhost:8080/"
        },
        "id": "uoUzFaqBeLx4",
        "outputId": "49fb2dae-f8fc-4762-85b9-629db154c21b"
      },
      "execution_count": 48,
      "outputs": [
        {
          "output_type": "stream",
          "name": "stdout",
          "text": [
            "dict_items([(101, 'first'), (102, 'second'), (103, 'third')])\n",
            "(101, 'first')\n",
            "(102, 'second')\n",
            "(103, 'third')\n"
          ]
        }
      ]
    },
    {
      "cell_type": "code",
      "source": [
        "d = dict({101:'first',102:'second',103:'third'})\n",
        "for k,v in d.items():\n",
        "  print(k,\".....\",v)"
      ],
      "metadata": {
        "colab": {
          "base_uri": "https://localhost:8080/"
        },
        "id": "yNUvVO7kfPPQ",
        "outputId": "a7dfd98b-640f-4462-b73d-2c4bac90012d"
      },
      "execution_count": 51,
      "outputs": [
        {
          "output_type": "stream",
          "name": "stdout",
          "text": [
            "101 ..... first\n",
            "102 ..... second\n",
            "103 ..... third\n"
          ]
        }
      ]
    },
    {
      "cell_type": "code",
      "source": [
        "d = dict({101:'first',102:'second',103:'third'})"
      ],
      "metadata": {
        "id": "5EiRdQAVftqy"
      },
      "execution_count": null,
      "outputs": []
    },
    {
      "cell_type": "code",
      "source": [
        "d1=d.copy()\n",
        "print(d1)"
      ],
      "metadata": {
        "colab": {
          "base_uri": "https://localhost:8080/"
        },
        "id": "sERATiFZgGh3",
        "outputId": "e51448b7-e21c-41c0-e326-7e54ffbd7c64"
      },
      "execution_count": 52,
      "outputs": [
        {
          "output_type": "stream",
          "name": "stdout",
          "text": [
            "{101: 'first', 102: 'second', 103: 'third'}\n"
          ]
        }
      ]
    },
    {
      "cell_type": "code",
      "source": [
        "d2=dict()\n",
        "d2[key] ='value'\n",
        "print(d)"
      ],
      "metadata": {
        "colab": {
          "base_uri": "https://localhost:8080/",
          "height": 176
        },
        "id": "Pf4RJEYhgN2g",
        "outputId": "da92aa27-ffba-480e-d9a7-2f9f03849eb3"
      },
      "execution_count": 57,
      "outputs": [
        {
          "output_type": "error",
          "ename": "NameError",
          "evalue": "name 'key' is not defined",
          "traceback": [
            "\u001b[0;31m---------------------------------------------------------------------------\u001b[0m",
            "\u001b[0;31mNameError\u001b[0m                                 Traceback (most recent call last)",
            "\u001b[0;32m<ipython-input-57-dc548212263f>\u001b[0m in \u001b[0;36m<cell line: 0>\u001b[0;34m()\u001b[0m\n\u001b[1;32m      1\u001b[0m \u001b[0md2\u001b[0m\u001b[0;34m=\u001b[0m\u001b[0mdict\u001b[0m\u001b[0;34m(\u001b[0m\u001b[0;34m)\u001b[0m\u001b[0;34m\u001b[0m\u001b[0;34m\u001b[0m\u001b[0m\n\u001b[0;32m----> 2\u001b[0;31m \u001b[0md2\u001b[0m\u001b[0;34m[\u001b[0m\u001b[0mkey\u001b[0m\u001b[0;34m]\u001b[0m \u001b[0;34m=\u001b[0m\u001b[0;34m'value'\u001b[0m\u001b[0;34m\u001b[0m\u001b[0;34m\u001b[0m\u001b[0m\n\u001b[0m\u001b[1;32m      3\u001b[0m \u001b[0mprint\u001b[0m\u001b[0;34m(\u001b[0m\u001b[0md\u001b[0m\u001b[0;34m)\u001b[0m\u001b[0;34m\u001b[0m\u001b[0;34m\u001b[0m\u001b[0m\n",
            "\u001b[0;31mNameError\u001b[0m: name 'key' is not defined"
          ]
        }
      ]
    },
    {
      "cell_type": "code",
      "source": [
        "d = dict({101:'first',102:'second',103:'third'})\n",
        "print(d.setdefault(101,'tested')) # no replacement\n",
        "print(d.setdefault(100,'tested'))\n",
        "print(d)"
      ],
      "metadata": {
        "colab": {
          "base_uri": "https://localhost:8080/"
        },
        "id": "wvI3MLuaggFE",
        "outputId": "cb34b730-cd5b-48dd-a01a-d6feac2f7256"
      },
      "execution_count": 61,
      "outputs": [
        {
          "output_type": "stream",
          "name": "stdout",
          "text": [
            "first\n",
            "tested\n",
            "{101: 'first', 102: 'second', 103: 'third', 100: 'tested'}\n"
          ]
        }
      ]
    },
    {
      "cell_type": "code",
      "source": [
        "# update method\n",
        "d1 ={800:'test',101:'Many'}\n",
        "d = dict({101:'first',102:'second',103:'third'})\n",
        "d.update(d1)\n",
        "print(d)\n",
        "print(d1)"
      ],
      "metadata": {
        "colab": {
          "base_uri": "https://localhost:8080/"
        },
        "id": "lPB77EWBh8ug",
        "outputId": "47477da4-cb6c-4735-caa3-113937d4c5a8"
      },
      "execution_count": 65,
      "outputs": [
        {
          "output_type": "stream",
          "name": "stdout",
          "text": [
            "{101: 'Many', 102: 'second', 103: 'third', 800: 'test'}\n",
            "{800: 'test', 101: 'Many'}\n"
          ]
        }
      ]
    },
    {
      "cell_type": "code",
      "source": [
        "# update method\n",
        "d1 ={800:'test',101:'Many'}\n",
        "d2 = {55:'A0',65:'B1'}\n",
        "d = dict({101:'first',102:'second',103:'third'})\n",
        "d.update(d1)\n",
        "#d.update(d1,d2)\n",
        "print(d)\n",
        "print(d1)\n",
        "d.update(d2)\n",
        "print(d)"
      ],
      "metadata": {
        "colab": {
          "base_uri": "https://localhost:8080/"
        },
        "id": "ZWq1RCcxjCbp",
        "outputId": "cd5d0bbb-bced-4ae4-d99b-625e89bbda19"
      },
      "execution_count": 68,
      "outputs": [
        {
          "output_type": "stream",
          "name": "stdout",
          "text": [
            "{101: 'Many', 102: 'second', 103: 'third', 800: 'test'}\n",
            "{800: 'test', 101: 'Many'}\n",
            "{101: 'Many', 102: 'second', 103: 'third', 800: 'test', 55: 'A0', 65: 'B1'}\n"
          ]
        }
      ]
    },
    {
      "cell_type": "markdown",
      "source": [
        "https://www.youtube.com/watch?v=J-Lye2a3p-c&list=PL6X5MDnC9oqOrCtwCxo3VsVMbLpNW7SkK&index=36\n",
        "\n",
        "Lecture 36 starts from here"
      ],
      "metadata": {
        "id": "sTg3Eq4AmvWG"
      }
    },
    {
      "cell_type": "code",
      "source": [
        "#  print sum of values in a dictionary\n",
        "\n",
        "k = {'a':000,'b':2000}\n",
        "sum = 0\n",
        "for v in k.values():\n",
        "  sum = sum+v\n",
        "\n",
        "print(sum)"
      ],
      "metadata": {
        "colab": {
          "base_uri": "https://localhost:8080/"
        },
        "id": "mxwgfvcUmxRl",
        "outputId": "83f42eb0-33ee-4c93-d360-17fe07d8a0fb"
      },
      "execution_count": 71,
      "outputs": [
        {
          "output_type": "stream",
          "name": "stdout",
          "text": [
            "2000\n"
          ]
        }
      ]
    },
    {
      "cell_type": "code",
      "source": [],
      "metadata": {
        "id": "hdSmawnqo7dI"
      },
      "execution_count": null,
      "outputs": []
    },
    {
      "cell_type": "code",
      "source": [
        "# number of occurrence of each letter present in the given string\n",
        "word = input(\"Enter some word\")\n",
        "d = {}\n",
        "for x in word:\n",
        "   #print(x)\n",
        "   d[x] = d.get(x,0)+1\n",
        "\n",
        "for k,v in d.items():\n",
        "  print(k,\" \",v)\n",
        "\n",
        "for k,v in d.items():\n",
        "  print(\"{} occurs {} times\".format(k,v))\n",
        "\n",
        "\n"
      ],
      "metadata": {
        "colab": {
          "base_uri": "https://localhost:8080/"
        },
        "id": "lBkwR2H0n9qG",
        "outputId": "ed543258-6535-4027-90c0-1607a2cf31f8"
      },
      "execution_count": 80,
      "outputs": [
        {
          "output_type": "stream",
          "name": "stdout",
          "text": [
            "Enter some wordtest\n",
            "t   2\n",
            "e   1\n",
            "s   1\n",
            "t occurs 2 times\n",
            "e occurs 1 times\n",
            "s occurs 1 times\n"
          ]
        }
      ]
    },
    {
      "cell_type": "code",
      "source": [
        "# number of occurrence of each letter present in the given string\n",
        "word = input(\"Enter some word\")\n",
        "d = {}\n",
        "for x in word:\n",
        "   #print(x)\n",
        "   d[x] = d.get(x,0)+1\n",
        "\n",
        "for k,v in d.items():\n",
        "  print(k,\" \",v)\n",
        "\n",
        "for k,v in sorted(d.items()):\n",
        "  print(\"{} occurs {} times\".format(k,v))\n",
        "\n"
      ],
      "metadata": {
        "colab": {
          "base_uri": "https://localhost:8080/"
        },
        "id": "-u_XLa2RorYX",
        "outputId": "a3c1e922-59c1-4aca-8bc6-b75f33d246fd"
      },
      "execution_count": 84,
      "outputs": [
        {
          "output_type": "stream",
          "name": "stdout",
          "text": [
            "Enter some wordzzxxxxyyymissiispiis\n",
            "z   2\n",
            "x   4\n",
            "y   3\n",
            "m   1\n",
            "i   5\n",
            "s   4\n",
            "p   1\n",
            "i occurs 5 times\n",
            "m occurs 1 times\n",
            "p occurs 1 times\n",
            "s occurs 4 times\n",
            "x occurs 4 times\n",
            "y occurs 3 times\n",
            "z occurs 2 times\n"
          ]
        }
      ]
    },
    {
      "cell_type": "code",
      "source": [
        "# occurrence of no of vowels in a word ( a,e,i,o,u)\n",
        "word = input(\"Enter some word\")\n",
        "vowels = {'a','e','i','o','u'}\n",
        "d = {}\n",
        "for x in word:\n",
        "  if x in vowels:\n",
        "   #print(x)\n",
        "    d[x] = d.get(x,0)+1\n",
        "\n",
        "for k,v in d.items():\n",
        "  print(k,\" \",v)\n",
        "\n",
        "for k,v in sorted(d.items()):\n",
        "  print(\"{} occurs {} times\".format(k,v))\n"
      ],
      "metadata": {
        "colab": {
          "base_uri": "https://localhost:8080/"
        },
        "id": "0Ok-UVEUuduv",
        "outputId": "a9aa7514-d25f-4a80-c865-ff389b7f37ce"
      },
      "execution_count": 86,
      "outputs": [
        {
          "output_type": "stream",
          "name": "stdout",
          "text": [
            "Enter some wordteesta\n",
            "e   2\n",
            "a   1\n",
            "a occurs 1 times\n",
            "e occurs 2 times\n"
          ]
        }
      ]
    }
  ]
}