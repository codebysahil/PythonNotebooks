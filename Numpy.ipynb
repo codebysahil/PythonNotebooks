{
  "nbformat": 4,
  "nbformat_minor": 0,
  "metadata": {
    "colab": {
      "provenance": [],
      "authorship_tag": "ABX9TyPgNffyHsFWxr0QXxceWBw4",
      "include_colab_link": true
    },
    "kernelspec": {
      "name": "python3",
      "display_name": "Python 3"
    },
    "language_info": {
      "name": "python"
    }
  },
  "cells": [
    {
      "cell_type": "markdown",
      "metadata": {
        "id": "view-in-github",
        "colab_type": "text"
      },
      "source": [
        "<a href=\"https://colab.research.google.com/github/codebysahil/PythonNotebooks/blob/main/Numpy.ipynb\" target=\"_parent\"><img src=\"https://colab.research.google.com/assets/colab-badge.svg\" alt=\"Open In Colab\"/></a>"
      ]
    },
    {
      "cell_type": "markdown",
      "source": [
        "Creating Numpy Arrays\n",
        "Numpy array can be created of any dimensions like 1 d , 2-d ----- similarly 25-d or n-d  and you can create numpy array of your data type as required for example interger array string array"
      ],
      "metadata": {
        "id": "q6lf-bwGpFLM"
      }
    },
    {
      "cell_type": "code",
      "execution_count": 9,
      "metadata": {
        "colab": {
          "base_uri": "https://localhost:8080/"
        },
        "id": "WCp2efXoo8ke",
        "outputId": "1bff778e-9752-4c55-d2fc-17e616b35825"
      },
      "outputs": [
        {
          "output_type": "stream",
          "name": "stdout",
          "text": [
            "[1 2 3]\n",
            "<class 'numpy.ndarray'>\n",
            "***********************************\n",
            "[[1 2 4]\n",
            " [3 6 7]]\n",
            "***********************************\n",
            "[[ 1  2  3]\n",
            " [ 6  7  8]\n",
            " [ 9 10 11]]\n"
          ]
        }
      ],
      "source": [
        "import numpy as np\n",
        "a = np.array([1,2,3]) # 1 d numpy array or vectors\n",
        "print(a)\n",
        "print(type(a))\n",
        "print(\"***********************************\")\n",
        "b = np.array([[1,2,4],[3,6,7]]) # 2 d numpy arrays or matrix\n",
        "print(b)\n",
        "print(\"***********************************\")\n",
        "c = np.array([[1,2,3],[6,7,8],[9,10,11]]) # 3 d numpy  arrays or tensor\n",
        "print(c)"
      ]
    },
    {
      "cell_type": "code",
      "source": [
        "d=np.array([1,2,4],dtype=float)\n",
        "print(d)\n",
        "bool_array=np.array([1,0,100],dtype=bool)\n",
        "print(bool_array)\n",
        "complex_d=np.array([1,2,4],dtype=complex)\n",
        "print(complex_d)"
      ],
      "metadata": {
        "colab": {
          "base_uri": "https://localhost:8080/"
        },
        "id": "tVzcTP4Iqmeq",
        "outputId": "8a11c226-3ac5-433e-9acd-e393e26149cb"
      },
      "execution_count": 14,
      "outputs": [
        {
          "output_type": "stream",
          "name": "stdout",
          "text": [
            "[1. 2. 4.]\n",
            "[ True False  True]\n",
            "[1.+0.j 2.+0.j 4.+0.j]\n"
          ]
        }
      ]
    },
    {
      "cell_type": "markdown",
      "source": [
        "np.arange function -- to create arrays similar to range function in python\n"
      ],
      "metadata": {
        "id": "Z4kev2U-sxTK"
      }
    },
    {
      "cell_type": "code",
      "source": [
        "# arnage function\n",
        "\n",
        "e=np.arange(1,11)\n",
        "e_1=np.arange(1,11,3)\n",
        "print(e)\n",
        "print(e_1)"
      ],
      "metadata": {
        "colab": {
          "base_uri": "https://localhost:8080/"
        },
        "id": "56B3RmAfs5cJ",
        "outputId": "50b526f9-5bba-4fd6-a81c-fd671c2486f3"
      },
      "execution_count": 17,
      "outputs": [
        {
          "output_type": "stream",
          "name": "stdout",
          "text": [
            "[ 1  2  3  4  5  6  7  8  9 10]\n",
            "[ 1  4  7 10]\n"
          ]
        }
      ]
    },
    {
      "cell_type": "code",
      "source": [
        "# reshape function used with arange\n",
        "\n",
        "e_2 =np.arange(1,13).reshape(3,4)\n",
        "print(e_2)"
      ],
      "metadata": {
        "colab": {
          "base_uri": "https://localhost:8080/"
        },
        "id": "J278y_9Jth6S",
        "outputId": "deb24b07-e327-4dc1-cc76-ca0e79036b9d"
      },
      "execution_count": 19,
      "outputs": [
        {
          "output_type": "stream",
          "name": "stdout",
          "text": [
            "[[ 1  2  3  4]\n",
            " [ 5  6  7  8]\n",
            " [ 9 10 11 12]]\n"
          ]
        }
      ]
    },
    {
      "cell_type": "code",
      "source": [
        "# initializing the numpy array\n",
        "# np.ones\n",
        "# np.zeroes\n",
        "# np.random"
      ],
      "metadata": {
        "id": "ACx1sB6dt2w6"
      },
      "execution_count": 20,
      "outputs": []
    },
    {
      "cell_type": "code",
      "source": [
        "# creating an numpy array 5 methods\n",
        "# np.array()\n",
        "# np.arange()\n",
        "# np.ones\n",
        "# np.zeroes\n",
        "# np.random\n",
        "# np.linspace\n",
        "# np.identity\n",
        "\n"
      ],
      "metadata": {
        "id": "-0rePUuVu7iI"
      },
      "execution_count": null,
      "outputs": []
    },
    {
      "cell_type": "markdown",
      "source": [],
      "metadata": {
        "id": "ZMrTKQsYwy5i"
      }
    },
    {
      "cell_type": "code",
      "source": [
        "pip install np"
      ],
      "metadata": {
        "colab": {
          "base_uri": "https://localhost:8080/"
        },
        "id": "0MD2KLDwwzOy",
        "outputId": "7ce6e4c9-63df-4e3d-b82c-896694074def"
      },
      "execution_count": 21,
      "outputs": [
        {
          "output_type": "stream",
          "name": "stdout",
          "text": [
            "Collecting np\n",
            "  Downloading np-1.0.2.tar.gz (7.4 kB)\n",
            "  Preparing metadata (setup.py) ... \u001b[?25l\u001b[?25hdone\n",
            "Building wheels for collected packages: np\n",
            "  Building wheel for np (setup.py) ... \u001b[?25l\u001b[?25hdone\n",
            "  Created wheel for np: filename=np-1.0.2-py3-none-any.whl size=13658 sha256=55ecbfadfb0d2f54256443c39b4e5b64f3c1617091b24d5571715c5d692fa30b\n",
            "  Stored in directory: /root/.cache/pip/wheels/19/20/42/6ee214e617f78123903f603524d662ac6fa14154c3027fd992\n",
            "Successfully built np\n",
            "Installing collected packages: np\n",
            "Successfully installed np-1.0.2\n"
          ]
        }
      ]
    },
    {
      "cell_type": "code",
      "source": [
        "import numpy as np1\n",
        "arr1 =np1.array([1,2,4,5,5,5,5,5,5,5,5,5])\n",
        "print(arr1)\n",
        "print(type(arr1))\n",
        "print(arr1.shape) # single dimensional array\n",
        "\n",
        "arr2=arr1.reshape(3,4) # 2 dimensional array 3 rows and 4 colums\n",
        "print(\"--------------------------------------------\")\n",
        "print(arr2)\n"
      ],
      "metadata": {
        "colab": {
          "base_uri": "https://localhost:8080/"
        },
        "id": "L1JqyL3lxC3z",
        "outputId": "0d239c2a-c1e1-4779-e553-3d546ef39b75"
      },
      "execution_count": 26,
      "outputs": [
        {
          "output_type": "stream",
          "name": "stdout",
          "text": [
            "[1 2 4 5 5 5 5 5 5 5 5 5]\n",
            "<class 'numpy.ndarray'>\n",
            "(12,)\n",
            "--------------------------------------------\n",
            "[[1 2 4 5]\n",
            " [5 5 5 5]\n",
            " [5 5 5 5]]\n"
          ]
        }
      ]
    },
    {
      "cell_type": "code",
      "source": [
        "one_array=np.ones((3,4))\n",
        "print(one_array)"
      ],
      "metadata": {
        "colab": {
          "base_uri": "https://localhost:8080/"
        },
        "id": "HjBIJbEHzRVL",
        "outputId": "84c9ea1f-d730-412d-84b6-8db0c0fa9e1e"
      },
      "execution_count": 27,
      "outputs": [
        {
          "output_type": "stream",
          "name": "stdout",
          "text": [
            "[[1. 1. 1. 1.]\n",
            " [1. 1. 1. 1.]\n",
            " [1. 1. 1. 1.]]\n"
          ]
        }
      ]
    },
    {
      "cell_type": "code",
      "source": [
        "# identity matrix\n",
        "\n",
        "identity_arr= np.identity(2)\n",
        "print(identity_arr)\n",
        "print(\"--------------------------------------------------------------------------------------\")\n",
        "identity_arr1= np.eye(3)\n",
        "print(identity_arr1)"
      ],
      "metadata": {
        "colab": {
          "base_uri": "https://localhost:8080/"
        },
        "id": "4xifnmfszyGy",
        "outputId": "ba86d141-da16-44db-bbd7-21ce9592e6b3"
      },
      "execution_count": 31,
      "outputs": [
        {
          "output_type": "stream",
          "name": "stdout",
          "text": [
            "[[1. 0.]\n",
            " [0. 1.]]\n",
            "--------------------------------------------------------------------------------------\n",
            "[[1. 0. 0.]\n",
            " [0. 1. 0.]\n",
            " [0. 0. 1.]]\n"
          ]
        }
      ]
    },
    {
      "cell_type": "code",
      "source": [
        "# some other methods available in numpy for arrays\n",
        "b1 = np.array([[1,2,4],[3,6,7]])\n",
        "print(\"Arrays:\\n\", b1)\n",
        "print(\"Shape:\\n\", b1.shape)\n",
        "\n",
        "print(\"number of dimensions:\\n\",b1.ndim)\n",
        "print(\"size of array:\\n\",b1.size)\n",
        "print(\"data type:\\n\",b1.dtype)\n",
        "print(\"ItemSize:\\n\",b1.itemsize)"
      ],
      "metadata": {
        "colab": {
          "base_uri": "https://localhost:8080/"
        },
        "id": "oLrOU6130gtb",
        "outputId": "7ecc61ba-78f3-43ce-bbe8-ce0f5eb85bda"
      },
      "execution_count": 32,
      "outputs": [
        {
          "output_type": "stream",
          "name": "stdout",
          "text": [
            "Arrays:\n",
            " [[1 2 4]\n",
            " [3 6 7]]\n",
            "Shape:\n",
            " (2, 3)\n",
            "number of dimensions:\n",
            " 2\n",
            "size of array:\n",
            " 6\n",
            "data type:\n",
            " int64\n",
            "ItemSize:\n",
            " 8\n"
          ]
        }
      ]
    },
    {
      "cell_type": "code",
      "source": [
        "# numpy vectorized operations\n",
        "arr1 =np.array([1,2,3,4,5])\n",
        "arr2= np.array([10,20,30,40,50])\n",
        "\n",
        "### element wise addition\n",
        "print(\"addition\",\" \",arr1+arr2)\n",
        "### element wise subsraction\n",
        "print(\"Substraction\",\" \",arr1-arr2)\n",
        "### element wise multiplication\n",
        "print(\"Multiplication\",\" \",arr1*arr2)\n",
        "### element wise subsraction\n",
        "print(\"Substraction\",\" \",arr2-arr1)\n",
        "### element wise subsraction\n",
        "print(\"Substraction\",\" \",arr2-arr2)\n",
        "\n"
      ],
      "metadata": {
        "colab": {
          "base_uri": "https://localhost:8080/"
        },
        "id": "UGnDG7UA1nO1",
        "outputId": "9e4a6e89-a775-43a4-e813-7a85b8bcf2b5"
      },
      "execution_count": 35,
      "outputs": [
        {
          "output_type": "stream",
          "name": "stdout",
          "text": [
            "addition   [11 22 33 44 55]\n",
            "Substraction   [ -9 -18 -27 -36 -45]\n",
            "Multiplication   [ 10  40  90 160 250]\n",
            "Substraction   [ 9 18 27 36 45]\n",
            "Substraction   [0 0 0 0 0]\n"
          ]
        }
      ]
    },
    {
      "cell_type": "code",
      "source": [
        "## Universal functions that apply to entire array element but it is applied element wise\n",
        "## square root\n",
        "print(\"square-root\",\" \" ,np.sqrt(arr1))\n",
        "print(\"sine\",\" \" ,np.sin(arr1))\n",
        "print(\"exponential\",\" \" ,np.exp(arr1))\n",
        "print(\"natural log\",\" \" ,np.log(arr1))\n",
        "\n",
        "\n"
      ],
      "metadata": {
        "colab": {
          "base_uri": "https://localhost:8080/"
        },
        "id": "JnoD1P2k2ZHV",
        "outputId": "53941240-0960-401d-9d5e-9cebe8d1b9d0"
      },
      "execution_count": 40,
      "outputs": [
        {
          "output_type": "stream",
          "name": "stdout",
          "text": [
            "square-root   [1.         1.41421356 1.73205081 2.         2.23606798]\n",
            "sine   [ 0.84147098  0.90929743  0.14112001 -0.7568025  -0.95892427]\n",
            "exponential   [  2.71828183   7.3890561   20.08553692  54.59815003 148.4131591 ]\n",
            "natural log   [0.         0.69314718 1.09861229 1.38629436 1.60943791]\n"
          ]
        }
      ]
    },
    {
      "cell_type": "code",
      "source": [
        "## Array Slicing and indexing\n",
        "\n",
        "arr=np.array([[1,2,3],[4,5,6],[7,8,9]])\n",
        "print(arr[0][2])\n",
        "print(\"***********\")\n",
        "print(arr[0,2])\n",
        "print(arr[0:2])\n",
        "print(arr[0:2,1:])\n",
        "\n"
      ],
      "metadata": {
        "colab": {
          "base_uri": "https://localhost:8080/"
        },
        "id": "tmdIp6fz3Qj8",
        "outputId": "9badbdd6-a1c1-41fc-80fc-ab279139dcbd"
      },
      "execution_count": 54,
      "outputs": [
        {
          "output_type": "stream",
          "name": "stdout",
          "text": [
            "3\n",
            "***********\n",
            "3\n",
            "[[1 2 3]\n",
            " [4 5 6]]\n",
            "[[2 3]\n",
            " [5 6]]\n"
          ]
        }
      ]
    },
    {
      "cell_type": "code",
      "source": [
        "arr1= np.array([[1,2,3,4],[5,6,7,8],[9,10,11,12]])\n",
        "\n",
        "print(arr1)\n",
        "print(\"after slicing\")\n",
        "print(arr1[1:,1:3])"
      ],
      "metadata": {
        "colab": {
          "base_uri": "https://localhost:8080/"
        },
        "id": "PMDHdavJ9uiN",
        "outputId": "58b33873-da61-41be-c251-112587709239"
      },
      "execution_count": 52,
      "outputs": [
        {
          "output_type": "stream",
          "name": "stdout",
          "text": [
            "[[ 1  2  3  4]\n",
            " [ 5  6  7  8]\n",
            " [ 9 10 11 12]]\n",
            "after slicing\n",
            "[[ 6  7]\n",
            " [10 11]]\n"
          ]
        }
      ]
    },
    {
      "cell_type": "code",
      "source": [
        "# Modify array elements\n",
        "print(arr)\n",
        "arr[0,0]=100\n",
        "print(\"after modification\", arr)\n"
      ],
      "metadata": {
        "colab": {
          "base_uri": "https://localhost:8080/"
        },
        "id": "l0zJi7zF-mn3",
        "outputId": "82bb3335-e8b7-434d-a31e-887ec7273e0c"
      },
      "execution_count": 53,
      "outputs": [
        {
          "output_type": "stream",
          "name": "stdout",
          "text": [
            "[[1 2 3]\n",
            " [4 5 6]\n",
            " [7 8 9]]\n",
            "after modification [[100   2   3]\n",
            " [  4   5   6]\n",
            " [  7   8   9]]\n"
          ]
        }
      ]
    },
    {
      "cell_type": "code",
      "source": [
        "## statistical concept\n",
        "#### normalization to have a mean of 0 and sd =1\n",
        "\n",
        "### to calculate mean median and deviation\n",
        "\n",
        "## Logical Operations\n",
        "\n"
      ],
      "metadata": {
        "id": "wdWL2qDG_MqO"
      },
      "execution_count": null,
      "outputs": []
    }
  ]
}